{
 "cells": [
  {
   "cell_type": "markdown",
   "metadata": {},
   "source": [
    "#Scrape Dermnet"
   ]
  },
  {
   "cell_type": "code",
   "execution_count": 1,
   "metadata": {
    "collapsed": false
   },
   "outputs": [
    {
     "name": "stdout",
     "output_type": "stream",
     "text": [
      "Populating the interactive namespace from numpy and matplotlib\n"
     ]
    }
   ],
   "source": [
    "%pylab inline"
   ]
  },
  {
   "cell_type": "code",
   "execution_count": 4,
   "metadata": {
    "collapsed": false
   },
   "outputs": [],
   "source": [
    "import urllib, os\n",
    "from IPython.display import clear_output"
   ]
  },
  {
   "cell_type": "markdown",
   "metadata": {},
   "source": [
    "###Get Links and Labels"
   ]
  },
  {
   "cell_type": "code",
   "execution_count": 11,
   "metadata": {
    "collapsed": false
   },
   "outputs": [
    {
     "data": {
      "text/plain": [
       "'22506 Warts-Treatment http://www.dermnet.com/dn2/allJPG3/warts-treatment-3.jpg'"
      ]
     },
     "metadata": {},
     "output_type": "display_data"
    }
   ],
   "source": [
    "import urllib, os\n",
    "domain = 'http://www.dermnet.com'\n",
    "site = urllib.urlopen(domain+'/dermatology-pictures-skin-disease-pictures/').readlines()\n",
    "\n",
    "links = []\n",
    "labels = []\n",
    "images = []\n",
    "ctr = 0\n",
    "\n",
    "for line in site:\n",
    "    if '<a href=' in line:\n",
    "        link1 = line.split('\"')[1]\n",
    "        if '/images/' in link1:\n",
    "            site2 = urllib.urlopen(domain+link1).readlines()\n",
    "            for line2 in site2:\n",
    "                if '<a href=' in line2:\n",
    "                    link2 = line2.split('\"')[1]\n",
    "                    if '/images/' in link2:\n",
    "                        imdir = link.split('/')[2] + '/' + link2.split('/')[2] + '/'\n",
    "                        site3 = urllib.urlopen(domain+link2).readlines()\n",
    "                        num = 1\n",
    "                        for line3 in site3:\n",
    "                            if '<div class=\"pagination\">' in line3:\n",
    "                                num = line3.split('<a href=')[-2]\n",
    "                                num = int(num.split('>')[1].split('<')[0])\n",
    "                        for i in range(num):\n",
    "                            site4 = urllib.urlopen(domain+link2+'/photos/'+str(i+1))\n",
    "                            for line4 in site4:\n",
    "                                if '<div class=desc>' in line4:\n",
    "                                    img = line4.split('<div class=desc>')[-1].split('</div')[0]\n",
    "                                    link = domain + '/dn2/allJPG3/' + img\n",
    "                                    label = imdir.split('/')[-2]\n",
    "                                    image = link.split('/')[-1]\n",
    "                                    links.append(link)\n",
    "                                    labels.append(label)\n",
    "                                    ctr+=1\n",
    "                                    clear_output()\n",
    "                                    display('{} {} {}'.format(ctr, label, link))"
   ]
  },
  {
   "cell_type": "code",
   "execution_count": 36,
   "metadata": {
    "collapsed": false
   },
   "outputs": [
    {
     "name": "stdout",
     "output_type": "stream",
     "text": [
      "22506 21853\n"
     ]
    }
   ],
   "source": [
    "print len(links), len(set(links))"
   ]
  },
  {
   "cell_type": "code",
   "execution_count": null,
   "metadata": {
    "collapsed": true
   },
   "outputs": [],
   "source": [
    "with open('images.txt', 'wb') as file:\n",
    "    for image, label in zip(images, labels):\n",
    "        file.write('{}|{}\\n'.format(image, label))"
   ]
  },
  {
   "cell_type": "markdown",
   "metadata": {},
   "source": [
    "###Download Images"
   ]
  },
  {
   "cell_type": "code",
   "execution_count": null,
   "metadata": {
    "collapsed": true
   },
   "outputs": [],
   "source": [
    "i = 0\n",
    "\n",
    "for link in set(links):\n",
    "    \n",
    "    urllib.urlretrieve(link,'images/'+link.split('/')[-1])\n",
    "    \n",
    "    i+=1\n",
    "    if i%100 is 0:\n",
    "        clear_output()\n",
    "        display(i)"
   ]
  }
 ],
 "metadata": {
  "kernelspec": {
   "display_name": "Python 2",
   "language": "python",
   "name": "python2"
  },
  "language_info": {
   "codemirror_mode": {
    "name": "ipython",
    "version": 2
   },
   "file_extension": ".py",
   "mimetype": "text/x-python",
   "name": "python",
   "nbconvert_exporter": "python",
   "pygments_lexer": "ipython2",
   "version": "2.7.6"
  }
 },
 "nbformat": 4,
 "nbformat_minor": 0
}
