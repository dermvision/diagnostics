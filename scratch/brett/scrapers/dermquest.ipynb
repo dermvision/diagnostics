{
 "cells": [
  {
   "cell_type": "markdown",
   "metadata": {},
   "source": [
    "#Scrape DermQuest"
   ]
  },
  {
   "cell_type": "code",
   "execution_count": 1,
   "metadata": {
    "collapsed": false
   },
   "outputs": [
    {
     "name": "stdout",
     "output_type": "stream",
     "text": [
      "Populating the interactive namespace from numpy and matplotlib\n"
     ]
    }
   ],
   "source": [
    "%pylab inline"
   ]
  },
  {
   "cell_type": "code",
   "execution_count": 4,
   "metadata": {
    "collapsed": true
   },
   "outputs": [],
   "source": [
    "import dryscrape, string, urllib, os\n",
    "from IPython.display import clear_output"
   ]
  },
  {
   "cell_type": "markdown",
   "metadata": {},
   "source": [
    "###Get Links and Labels"
   ]
  },
  {
   "cell_type": "code",
   "execution_count": 6,
   "metadata": {
    "collapsed": false
   },
   "outputs": [
    {
     "data": {
      "text/plain": [
       "18000"
      ]
     },
     "metadata": {},
     "output_type": "display_data"
    }
   ],
   "source": [
    "domain = 'https://www.dermquest.com'\n",
    "\n",
    "links = []\n",
    "labels = []\n",
    "images = []\n",
    "i = 0\n",
    "\n",
    "page1 = dryscrape.Session(base_url=domain)\n",
    "page1.visit('/image-library/image-search/')\n",
    "for letter in string.ascii_uppercase:\n",
    "    for diag in page1.xpath('//div[@id=\"diagnosis\"]//div[@id=\"alpha-{}\"]//li'.format(letter)):\n",
    "        label = diag.text()\n",
    "        diag_id = diag['data-facet-id']\n",
    "        diag_page = '/image-library/image-search/#image-search/perPage=100000&diagnosis=' + diag_id\n",
    "        page2 = dryscrape.Session(base_url=domain)\n",
    "        page2.visit(diag_page)\n",
    "        for img in page2.xpath('//img'):\n",
    "            if '/imagelibrary/' in img['src']:\n",
    "                image = img['src'].split('/')[3].split('?')[0]\n",
    "                link = domain + '/imagelibrary/large/' + image\n",
    "                \n",
    "                images.append(image)\n",
    "                links.append(link)\n",
    "                labels.append(label)\n",
    "                \n",
    "                i+=1\n",
    "                if i%100 is 0:\n",
    "                    clear_output()\n",
    "                    display(i)"
   ]
  },
  {
   "cell_type": "code",
   "execution_count": 7,
   "metadata": {
    "collapsed": false
   },
   "outputs": [
    {
     "name": "stdout",
     "output_type": "stream",
     "text": [
      "18011 17996\n"
     ]
    }
   ],
   "source": [
    "print len(links), len(set(links))"
   ]
  },
  {
   "cell_type": "code",
   "execution_count": 8,
   "metadata": {
    "collapsed": true
   },
   "outputs": [],
   "source": [
    "with open('images_dermquest.txt', 'wb') as file:\n",
    "    for image, label in zip(images, labels):\n",
    "        file.write('{}|{}\\n'.format(image, label))"
   ]
  },
  {
   "cell_type": "markdown",
   "metadata": {},
   "source": [
    "###Download Images"
   ]
  },
  {
   "cell_type": "code",
   "execution_count": null,
   "metadata": {
    "collapsed": false
   },
   "outputs": [
    {
     "data": {
      "text/plain": [
       "16300"
      ]
     },
     "metadata": {},
     "output_type": "display_data"
    }
   ],
   "source": [
    "i = 0\n",
    "\n",
    "for image, link in set(zip(images, links)):\n",
    "    \n",
    "    urllib.urlretrieve(link,'images_dermquest/'+image)\n",
    "    \n",
    "    i+=1\n",
    "    if i%100 is 0:\n",
    "        clear_output()\n",
    "        display(i)"
   ]
  },
  {
   "cell_type": "code",
   "execution_count": null,
   "metadata": {
    "collapsed": true
   },
   "outputs": [],
   "source": []
  }
 ],
 "metadata": {
  "kernelspec": {
   "display_name": "Python 2",
   "language": "python",
   "name": "python2"
  },
  "language_info": {
   "codemirror_mode": {
    "name": "ipython",
    "version": 2
   },
   "file_extension": ".py",
   "mimetype": "text/x-python",
   "name": "python",
   "nbconvert_exporter": "python",
   "pygments_lexer": "ipython2",
   "version": "2.7.6"
  }
 },
 "nbformat": 4,
 "nbformat_minor": 0
}
