{
 "cells": [
  {
   "cell_type": "markdown",
   "metadata": {},
   "source": [
    "#Scrape VisualDX"
   ]
  },
  {
   "cell_type": "code",
   "execution_count": null,
   "metadata": {
    "collapsed": true
   },
   "outputs": [],
   "source": [
    "import json, requests, os, PIL.Image\n",
    "from StringIO import StringIO"
   ]
  },
  {
   "cell_type": "markdown",
   "metadata": {},
   "source": [
    "###Test Session Cookie"
   ]
  },
  {
   "cell_type": "code",
   "execution_count": 32,
   "metadata": {
    "collapsed": false
   },
   "outputs": [
    {
     "data": {
      "image/jpeg": "[encoded data removed]",
      "text/plain": [
       "<IPython.core.display.Image object>"
      ]
     },
     "execution_count": 32,
     "metadata": {},
     "output_type": "execute_result"
    }
   ],
   "source": [
    "url = 'https://www.visualdx.com/visualdx/visualdx6/{}.do'\n",
    "p = {'imageSize': 'Medium', 'imageId': 732416}\n",
    "c = {'JSESSIONID': '20D60FFCA138E4F52AAEB60E2CCFDFA4.i1'}\n",
    "r = requests.get(url.format('getImage'), params=p, cookies=c)\n",
    "Image(r.content)"
   ]
  },
  {
   "cell_type": "markdown",
   "metadata": {},
   "source": [
    "###Get List of Disease IDs"
   ]
  },
  {
   "cell_type": "code",
   "execution_count": 91,
   "metadata": {
    "collapsed": false
   },
   "outputs": [
    {
     "data": {
      "text/plain": [
       "'checking dxId 55999'"
      ]
     },
     "metadata": {},
     "output_type": "display_data"
    },
    {
     "data": {
      "text/plain": [
       "'1071 dxIds found'"
      ]
     },
     "metadata": {},
     "output_type": "display_data"
    }
   ],
   "source": [
    "url = 'https://www.visualdx.com/visualdx/visualdx6/search.do'\n",
    "p = {'q': 'a'}\n",
    "dxIds = []\n",
    "for dxId in xrange(50000, 56000):\n",
    "    p['termIds'] = 'd-{}'.format(dxId)\n",
    "    r = requests.get(url, params=p, cookies=c)\n",
    "    clear_output(wait=True)\n",
    "    display('checking dxId {}'.format(dxId), '{} dxIds found'.format(len(dxIds)))\n",
    "    if 'did not match any diagnoses' not in r.content:\n",
    "        dxIds.append(dxId)\n",
    "\n",
    "with open('dxIds.json', 'w') as f: json.dump(dxIds, f)"
   ]
  },
  {
   "cell_type": "markdown",
   "metadata": {},
   "source": [
    "###Find Images"
   ]
  },
  {
   "cell_type": "code",
   "execution_count": 7,
   "metadata": {
    "collapsed": false
   },
   "outputs": [
    {
     "data": {
      "text/plain": [
       "'processed disease 1071: Paederus Dermatitis'"
      ]
     },
     "metadata": {},
     "output_type": "display_data"
    },
    {
     "data": {
      "text/plain": [
       "'37208 images found'"
      ]
     },
     "metadata": {},
     "output_type": "display_data"
    }
   ],
   "source": [
    "diseases = []\n",
    "I = []\n",
    "p = {'q': 'a'}\n",
    "\n",
    "with open('dxIds.json', 'r') as f: dxIds = json.load(f)\n",
    "\n",
    "ctr = 0        \n",
    "\n",
    "for dxId in dxIds:\n",
    "    \n",
    "    p['diagnosisId'] = dxId\n",
    "    p['termIds'] = 'd-{}'.format(dxId)\n",
    "    r = requests.get(url.format('search'), params=p, cookies=c)\n",
    "\n",
    "    MIds = []\n",
    "    for line in r.content.split('\\r\\n'):\n",
    "        if 'dxModuleIds[' in line:\n",
    "            MId = int(line.split()[-1][:-1])\n",
    "            MIds.append(MId)\n",
    "        if 'var dxName = ' in line:\n",
    "            dname = line.split('\"')[1]\n",
    "\n",
    "    modules = []\n",
    "    for MId in MIds:\n",
    "        p['moduleId'] = MId\n",
    "        r = requests.get(url.format('getDiagnosisText'), params=p, cookies=c)\n",
    "\n",
    "        imageIds = []\n",
    "        for line in r.content.split('\\r\\n'):\n",
    "            if 'dxStacks[' in line:\n",
    "                imageId = int(line.split()[-1][:-1])\n",
    "                imageIds.append(imageId)\n",
    "            if 'dxModuleNames[{}] = '.format(MId) in line:\n",
    "                mname = line.split('\"')[1] \n",
    "\n",
    "        module = {}\n",
    "        module['MId'] = MId\n",
    "        module['name'] = mname\n",
    "        module['imageIds'] = imageIds\n",
    "        modules.append(module)\n",
    "        I += imageIds\n",
    "\n",
    "    disease = {}\n",
    "    disease['dxId'] = int(dxId)\n",
    "    disease['name'] = dname\n",
    "    disease['modules'] = modules\n",
    "    diseases.append(disease)\n",
    "    \n",
    "    ctr += 1\n",
    "    clear_output(wait=True)\n",
    "    display('processed disease {}: {}'.format(ctr, dname))\n",
    "    display('{} images found'.format(len(set(I))))\n",
    "\n",
    "with open('diseases.json', 'w') as f: json.dump(diseases, f)"
   ]
  },
  {
   "cell_type": "markdown",
   "metadata": {},
   "source": [
    "###Download Images"
   ]
  },
  {
   "cell_type": "code",
   "execution_count": 34,
   "metadata": {
    "collapsed": false
   },
   "outputs": [
    {
     "data": {
      "text/plain": [
       "'25131 images downloaded'"
      ]
     },
     "metadata": {},
     "output_type": "display_data"
    }
   ],
   "source": [
    "ctr = 0\n",
    "imageIds = list(set(I))\n",
    "\n",
    "for i in imageIds:\n",
    "    url = 'https://www.visualdx.com/visualdx/visualdx6/getImage.do'\n",
    "    p = {'imageSize': 'Large', 'imageId': i}\n",
    "    r = requests.get(url, params=p, cookies=c)\n",
    "    f = 'images/{}.jpg'.format(i)\n",
    "    PIL.Image.open(StringIO(r.content)).save(f)\n",
    "    \n",
    "    ctr += 1\n",
    "    clear_output(wait=True)\n",
    "    display('{} images downloaded'.format(ctr))"
   ]
  }
 ],
 "metadata": {
  "kernelspec": {
   "display_name": "Python 2",
   "language": "python",
   "name": "python2"
  },
  "language_info": {
   "codemirror_mode": {
    "name": "ipython",
    "version": 2
   },
   "file_extension": ".py",
   "mimetype": "text/x-python",
   "name": "python",
   "nbconvert_exporter": "python",
   "pygments_lexer": "ipython2",
   "version": "2.7.6"
  }
 },
 "nbformat": 4,
 "nbformat_minor": 0
}
