{
 "cells": [
  {
   "cell_type": "markdown",
   "metadata": {},
   "source": [
    "#Scrape Dermis"
   ]
  },
  {
   "cell_type": "code",
   "execution_count": 2,
   "metadata": {
    "collapsed": false
   },
   "outputs": [
    {
     "name": "stdout",
     "output_type": "stream",
     "text": [
      "Populating the interactive namespace from numpy and matplotlib\n"
     ]
    }
   ],
   "source": [
    "%pylab inline"
   ]
  },
  {
   "cell_type": "code",
   "execution_count": 11,
   "metadata": {
    "collapsed": false
   },
   "outputs": [],
   "source": [
    "import urllib2, os, string, urllib\n",
    "from IPython.display import clear_output"
   ]
  },
  {
   "cell_type": "markdown",
   "metadata": {},
   "source": [
    "###Get Links and Labels"
   ]
  },
  {
   "cell_type": "code",
   "execution_count": 25,
   "metadata": {
    "collapsed": false
   },
   "outputs": [
    {
     "data": {
      "text/plain": [
       "7000"
      ]
     },
     "metadata": {},
     "output_type": "display_data"
    }
   ],
   "source": [
    "domain = 'http://www.dermis.net'\n",
    "site = urllib2.urlopen(domain+'/dermisroot/en/list/all/search.htm').readlines()\n",
    "\n",
    "links = []\n",
    "labels = []\n",
    "images = []\n",
    "i = 0\n",
    "\n",
    "for line in site:\n",
    "    for line2 in line.split('<li>'):\n",
    "        if '<a href=' in line2 and 'diagnose.htm' in line2:\n",
    "            label = string.join(line2.split('>')[1].split()[:-2])\n",
    "            diag_page = '/dermisroot/' + line2.split('\"')[1]\n",
    "            site2 = urllib2.urlopen(domain + diag_page)\n",
    "            for line2 in site2:\n",
    "                if '<img src=\"/bilder/' in line2:\n",
    "                    link = domain  + line2.split('\"')[5]\n",
    "                    link = link.replace('100','550')\n",
    "                    image = link.split('/')[-3] + '-' + link.split('/')[-1]\n",
    "                    \n",
    "                    images.append(image)\n",
    "                    links.append(link)\n",
    "                    labels.append(label)\n",
    "                    \n",
    "                    i+=1\n",
    "                    if i%100 is 0:\n",
    "                        clear_output()\n",
    "                        display(i)"
   ]
  },
  {
   "cell_type": "code",
   "execution_count": 29,
   "metadata": {
    "collapsed": false
   },
   "outputs": [
    {
     "name": "stdout",
     "output_type": "stream",
     "text": [
      "7025 6588\n"
     ]
    }
   ],
   "source": [
    "print len(links), len(set(links))"
   ]
  },
  {
   "cell_type": "code",
   "execution_count": 31,
   "metadata": {
    "collapsed": true
   },
   "outputs": [],
   "source": [
    "with open('images_dermis.txt', 'wb') as file:\n",
    "    for image, label in zip(images, labels):\n",
    "        file.write('{}|{}\\n'.format(image, label))"
   ]
  },
  {
   "cell_type": "markdown",
   "metadata": {},
   "source": [
    "###Download Images"
   ]
  },
  {
   "cell_type": "code",
   "execution_count": 37,
   "metadata": {
    "collapsed": false
   },
   "outputs": [
    {
     "data": {
      "text/plain": [
       "6500"
      ]
     },
     "metadata": {},
     "output_type": "display_data"
    }
   ],
   "source": [
    "i = 0\n",
    "\n",
    "for image, link in set(zip(images, links)):\n",
    "    \n",
    "    urllib.urlretrieve(link,'images_dermis/'+image)\n",
    "    \n",
    "    i+=1\n",
    "    if i%100 is 0:\n",
    "        clear_output()\n",
    "        display(i)"
   ]
  },
  {
   "cell_type": "code",
   "execution_count": null,
   "metadata": {
    "collapsed": true
   },
   "outputs": [],
   "source": []
  }
 ],
 "metadata": {
  "kernelspec": {
   "display_name": "Python 2",
   "language": "python",
   "name": "python2"
  },
  "language_info": {
   "codemirror_mode": {
    "name": "ipython",
    "version": 2
   },
   "file_extension": ".py",
   "mimetype": "text/x-python",
   "name": "python",
   "nbconvert_exporter": "python",
   "pygments_lexer": "ipython2",
   "version": "2.7.6"
  }
 },
 "nbformat": 4,
 "nbformat_minor": 0
}
