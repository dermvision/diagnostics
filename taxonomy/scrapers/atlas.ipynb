{
 "cells": [
  {
   "cell_type": "markdown",
   "metadata": {},
   "source": [
    "#Scrape Atlas (Brazil)"
   ]
  },
  {
   "cell_type": "code",
   "execution_count": 1,
   "metadata": {
    "collapsed": false
   },
   "outputs": [
    {
     "name": "stdout",
     "output_type": "stream",
     "text": [
      "Populating the interactive namespace from numpy and matplotlib\n"
     ]
    }
   ],
   "source": [
    "%pylab inline"
   ]
  },
  {
   "cell_type": "code",
   "execution_count": 5,
   "metadata": {
    "collapsed": true
   },
   "outputs": [],
   "source": [
    "import urllib2, os, string, urllib\n",
    "from IPython.display import clear_output"
   ]
  },
  {
   "cell_type": "markdown",
   "metadata": {},
   "source": [
    "###Get Links and Labels"
   ]
  },
  {
   "cell_type": "code",
   "execution_count": 11,
   "metadata": {
    "collapsed": false
   },
   "outputs": [
    {
     "data": {
      "text/plain": [
       "8600"
      ]
     },
     "metadata": {},
     "output_type": "display_data"
    }
   ],
   "source": [
    "domain = 'http://www.atlasdermatologico.com.br'\n",
    "\n",
    "links = []\n",
    "labels = []\n",
    "images = []\n",
    "i = 0\n",
    "\n",
    "for diseaseID in range(501):\n",
    "    site = urllib2.urlopen(domain+'/disease.jsf?diseaseId='+str(diseaseID+1)).readlines()\n",
    "    for line in site:\n",
    "        if '<span class=\"capitalized\">' in line:\n",
    "            label = line.split('<span class=\"capitalized\">')[1].split('<')[0]\n",
    "            if label is '': continue\n",
    "        if '?imageId=' in line:\n",
    "            for img_id in line.split('?imageId='):\n",
    "                if '&amp' in img_id:\n",
    "                    img_id = img_id.split('&amp')[0]\n",
    "                    link = 'http://www.atlasdermatologico.com.br/img?imageId=' + img_id\n",
    "                    image = img_id + '.jpg'\n",
    "                    \n",
    "                    images.append(image)\n",
    "                    links.append(link)\n",
    "                    labels.append(label)\n",
    "                    \n",
    "                    i+=1\n",
    "                    if i%100 is 0:\n",
    "                        clear_output()\n",
    "                        display(i)"
   ]
  },
  {
   "cell_type": "code",
   "execution_count": 12,
   "metadata": {
    "collapsed": false
   },
   "outputs": [
    {
     "name": "stdout",
     "output_type": "stream",
     "text": [
      "8606 8606\n"
     ]
    }
   ],
   "source": [
    "print len(links), len(set(links))"
   ]
  },
  {
   "cell_type": "code",
   "execution_count": 13,
   "metadata": {
    "collapsed": true
   },
   "outputs": [],
   "source": [
    "with open('images_atlas.txt', 'wb') as file:\n",
    "    for image, label in zip(images, labels):\n",
    "        file.write('{}|{}\\n'.format(image, label))"
   ]
  },
  {
   "cell_type": "markdown",
   "metadata": {},
   "source": [
    "###Download Images"
   ]
  },
  {
   "cell_type": "code",
   "execution_count": 10,
   "metadata": {
    "collapsed": false
   },
   "outputs": [
    {
     "data": {
      "text/plain": [
       "8600"
      ]
     },
     "metadata": {},
     "output_type": "display_data"
    }
   ],
   "source": [
    "i = 0\n",
    "\n",
    "for image, link in set(zip(images, links)):\n",
    "    \n",
    "    urllib.urlretrieve(link,'images_atlas/'+image)\n",
    "    \n",
    "    i+=1\n",
    "    if i%100 is 0:\n",
    "        clear_output()\n",
    "        display(i)"
   ]
  },
  {
   "cell_type": "code",
   "execution_count": null,
   "metadata": {
    "collapsed": true
   },
   "outputs": [],
   "source": []
  }
 ],
 "metadata": {
  "kernelspec": {
   "display_name": "Python 2",
   "language": "python",
   "name": "python2"
  },
  "language_info": {
   "codemirror_mode": {
    "name": "ipython",
    "version": 2
   },
   "file_extension": ".py",
   "mimetype": "text/x-python",
   "name": "python",
   "nbconvert_exporter": "python",
   "pygments_lexer": "ipython2",
   "version": "2.7.6"
  }
 },
 "nbformat": 4,
 "nbformat_minor": 0
}
