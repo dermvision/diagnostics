{
 "cells": [
  {
   "cell_type": "markdown",
   "metadata": {},
   "source": [
    "#Scrape Hellenic"
   ]
  },
  {
   "cell_type": "code",
   "execution_count": 1,
   "metadata": {
    "collapsed": false
   },
   "outputs": [
    {
     "name": "stdout",
     "output_type": "stream",
     "text": [
      "Populating the interactive namespace from numpy and matplotlib\n"
     ]
    }
   ],
   "source": [
    "%pylab inline"
   ]
  },
  {
   "cell_type": "code",
   "execution_count": 2,
   "metadata": {
    "collapsed": true
   },
   "outputs": [],
   "source": [
    "import urllib2, os, string, urllib\n",
    "from IPython.display import clear_output"
   ]
  },
  {
   "cell_type": "markdown",
   "metadata": {},
   "source": [
    "###Get Links and Labels"
   ]
  },
  {
   "cell_type": "code",
   "execution_count": 3,
   "metadata": {
    "collapsed": false
   },
   "outputs": [
    {
     "data": {
      "text/plain": [
       "2100"
      ]
     },
     "metadata": {},
     "output_type": "display_data"
    }
   ],
   "source": [
    "domain = 'http://www.hellenicdermatlas.com'\n",
    "site = urllib2.urlopen(domain+'/en/search/browse/').readlines()\n",
    "\n",
    "links = []\n",
    "labels = []\n",
    "images = []\n",
    "i = 0\n",
    "\n",
    "for line in site:\n",
    "    for line in line.split('<a href='):\n",
    "        if '/en/' in line and '</a></li><li>' in line:\n",
    "            img_dir = line.split('\\'')[1].split('/')[2]\n",
    "            label = img_dir.lower().replace('_pictures', '')\n",
    "            try:\n",
    "                site2 = urllib2.urlopen(domain + '/en/' + img_dir + '/1/')\n",
    "                num_pages=1;\n",
    "                for line2 in site2:\n",
    "                    if 'pager' in line2:\n",
    "                        for line3 in line2.split(img_dir):\n",
    "                            if '</a> <a id=\\'pager\\'' in line3:\n",
    "                                try:\n",
    "                                    num_pages = max(num_pages, int(line3.split('/')[1]))\n",
    "                                except:\n",
    "                                    pass\n",
    "                for pg in range(num_pages):\n",
    "                    site2 = urllib2.urlopen(domain + '/en/' + img_dir + '/' + str(pg) + '/')\n",
    "                    for line2 in site2:\n",
    "                        if 'thumb.jpg' in line2:\n",
    "                            link = line2.split('src=')[1].split('\\'')[1]\n",
    "                            link = link.replace('thumb', 'standalone')\n",
    "                            link = domain + link\n",
    "                            image = link.split('/')[-1].split('_')[0]+'.jpg'\n",
    "                                                        \n",
    "                            images.append(image)\n",
    "                            links.append(link)\n",
    "                            labels.append(label)\n",
    "                            \n",
    "                            i+=1\n",
    "                            if i%100 is 0:\n",
    "                                clear_output()\n",
    "                                display(i)\n",
    "            except:\n",
    "                pass"
   ]
  },
  {
   "cell_type": "code",
   "execution_count": 4,
   "metadata": {
    "collapsed": false
   },
   "outputs": [
    {
     "name": "stdout",
     "output_type": "stream",
     "text": [
      "2116 1710\n"
     ]
    }
   ],
   "source": [
    "print len(links), len(set(links))"
   ]
  },
  {
   "cell_type": "code",
   "execution_count": 7,
   "metadata": {
    "collapsed": true
   },
   "outputs": [],
   "source": [
    "with open('images_hellenic.txt', 'wb') as file:\n",
    "    for image, label in zip(images, labels):\n",
    "        file.write('{}|{}\\n'.format(image, label))"
   ]
  },
  {
   "cell_type": "markdown",
   "metadata": {},
   "source": [
    "###Download Images"
   ]
  },
  {
   "cell_type": "code",
   "execution_count": 8,
   "metadata": {
    "collapsed": false
   },
   "outputs": [
    {
     "data": {
      "text/plain": [
       "1700"
      ]
     },
     "metadata": {},
     "output_type": "display_data"
    }
   ],
   "source": [
    "i = 0\n",
    "\n",
    "for image, link in set(zip(images, links)):\n",
    "    \n",
    "    urllib.urlretrieve(link,'images_hellenic/'+image)\n",
    "    \n",
    "    i+=1\n",
    "    if i%100 is 0:\n",
    "        clear_output()\n",
    "        display(i)"
   ]
  },
  {
   "cell_type": "code",
   "execution_count": null,
   "metadata": {
    "collapsed": true
   },
   "outputs": [],
   "source": []
  }
 ],
 "metadata": {
  "kernelspec": {
   "display_name": "Python 2",
   "language": "python",
   "name": "python2"
  },
  "language_info": {
   "codemirror_mode": {
    "name": "ipython",
    "version": 2
   },
   "file_extension": ".py",
   "mimetype": "text/x-python",
   "name": "python",
   "nbconvert_exporter": "python",
   "pygments_lexer": "ipython2",
   "version": "2.7.6"
  }
 },
 "nbformat": 4,
 "nbformat_minor": 0
}
